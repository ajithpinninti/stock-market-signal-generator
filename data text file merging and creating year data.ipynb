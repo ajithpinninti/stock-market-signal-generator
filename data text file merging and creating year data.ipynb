{
 "cells": [
  {
   "cell_type": "markdown",
   "metadata": {},
   "source": [
    "# no.2\n",
    "\n"
   ]
  },
  {
   "cell_type": "markdown",
   "metadata": {},
   "source": [
    "#### company_month_data -----> (yearwhole_data)company year data ex:- 2017whole_data\n",
    "\n",
    "<p> input-->  comapany month data</p>\n",
    "<p> output---> company yearly data(folder--> year_wholedata, file--> company_year.txt)"
   ]
  },
  {
   "cell_type": "code",
   "execution_count": 2,
   "metadata": {},
   "outputs": [],
   "source": [
    "import os\n",
    "import shutil\n",
    "from time import sleep\n"
   ]
  },
  {
   "cell_type": "code",
   "execution_count": 10,
   "metadata": {},
   "outputs": [],
   "source": [
    "years = ['2017','2019','2020']\n",
    "common = 'NIFTY50_'\n",
    "months = ['JAN','FEB','MAR','APR','MAY','JUN','JUL','AUG','SEP','OCT','NOV','DEC']\n",
    "location = 'C:/Users/ajith/research/data/while_year_data/'\n",
    "companies = ['HDFCBANK',\n",
    "             'RELIANCE',\n",
    "             'HDFC',\n",
    "             'ICICIBANK',\n",
    "             'INFY',\n",
    "             'TCS',\n",
    "             'KOTAKBANK',\n",
    "             'ITC',\n",
    "             'AXISBANK',\n",
    "            'SBIN']"
   ]
  },
  {
   "cell_type": "markdown",
   "metadata": {},
   "source": [
    "#### merge all month data into year data and save to <b> 'year_wholedata' </b> folder company wise"
   ]
  },
  {
   "cell_type": "code",
   "execution_count": null,
   "metadata": {},
   "outputs": [],
   "source": [
    "for year in years:     #all years in data\n",
    "    print('in %s year.................\\n'%year)\n",
    "    for company in companies:  # company in companies list\n",
    "        print('for %s company .....................\\n'%company)\n",
    "        data = \"\"\n",
    "        for month in months:   #all months data with prefix of nifty50_\n",
    "            #print('in %s month.....................\\n'%month)\n",
    "            print(location + year+'_data/'+company+'/'+company+'_'\n",
    "                          + month+'.txt')\n",
    "            try:\n",
    "                with open(location + year+'_data/'+company+'/'+company+'_'\n",
    "                          + month+'.txt') as month_data:\n",
    "                    data = data+month_data.read()\n",
    "            except:\n",
    "                print('no %s month \\n'%month)\n",
    "        \n",
    "        \n",
    "        parent_dir = location  \n",
    "        year2 = year+'whole_data'   #2017_data,2018_data\n",
    "        path = os.path.join(parent_dir, year2)   #path  name = year name\n",
    "        \n",
    "        try:   #checking for name exist error            \n",
    "                            \n",
    "            os.mkdir(path)  # Create the directory with path name(year name)\n",
    "            print(\"Directory '% s' created.............../n\" % year)\n",
    "        except:\n",
    "            print()\n",
    "        \n",
    "        with open (path+'/'+company+'_'+year+'.txt', 'w') as fp: #creating text filewith companyyear.txt\n",
    "            fp.write(data)           \n",
    "        \n",
    "            \n",
    "            "
   ]
  },
  {
   "cell_type": "markdown",
   "metadata": {},
   "source": [
    "#### for year form data copy to <b> 'year_wholedata' </b>"
   ]
  },
  {
   "cell_type": "code",
   "execution_count": 5,
   "metadata": {
    "collapsed": true,
    "jupyter": {
     "outputs_hidden": true
    }
   },
   "outputs": [
    {
     "name": "stdout",
     "output_type": "stream",
     "text": [
      "in 2018 year.................\n",
      "\n",
      "\n",
      "HDFCBANK\n",
      "\n",
      "RELIANCE\n",
      "\n",
      "HDFC\n",
      "\n",
      "ICICIBANK\n",
      "\n",
      "INFY\n",
      "\n",
      "TCS\n",
      "\n",
      "KOTAKBANK\n",
      "\n",
      "ITC\n",
      "\n",
      "AXISBANK\n",
      "\n",
      "SBIN\n"
     ]
    }
   ],
   "source": [
    "years = ['2018']\n",
    "#for year format\n",
    "\n",
    "for year in years:     #all years in data\n",
    "    print('in %s year.................\\n'%year)\n",
    "    for company in companies:  # company in companies list\n",
    "        source = location + year+'_data/'+company+'.txt' # source for files\n",
    "        year2 = year+'whole_data'   #2017whole_data,2018whole_data\n",
    "        path = os.path.join(location, year2)   #path  name = year name\n",
    "        try:                 #checking for name exist error   \n",
    "            os.mkdir(path)  # Create the directory with path name(year name)\n",
    "            print(\"Directory '% s' created.............../n\" % year)\n",
    "        except:\n",
    "            print()\n",
    "        try:\n",
    "            shutil.copy(source, path)\n",
    "            os.rename(path+'/'+company+'.txt', path+'/'+company+'_'+year+'.txt') #HDFC.txt ---> HDFC_year.txt\n",
    "        except:\n",
    "            print(company)       \n",
    "        "
   ]
  },
  {
   "cell_type": "markdown",
   "metadata": {},
   "source": [
    "## data counting\n"
   ]
  },
  {
   "cell_type": "code",
   "execution_count": null,
   "metadata": {},
   "outputs": [],
   "source": [
    "address = '/users/ajith/research/data/2017_data/'\n",
    "for company in companies:\n",
    "    print('______________................_____________')\n",
    "    for month in months:\n",
    "        with open(address+company+'/'+company+'_'+month+'.txt') as check:\n",
    "            count = check.read().count(company)\n",
    "            print('{} in {} = {} data points'.format(company,month,count))\n",
    "            sleep(0.5)\n",
    "            "
   ]
  },
  {
   "cell_type": "code",
   "execution_count": null,
   "metadata": {},
   "outputs": [],
   "source": [
    "adress = '/users/ajith/research/data/2020/NIFTY50_AUG2020/'\n",
    "for company in companies:\n",
    "    print('______________................_____________')\n",
    "    for day in range(1,32):\n",
    "        try:\n",
    "            with open(adress+str(day)+'AUG'+'/'+company+'.txt') as check:\n",
    "                count = check.read().count(company)\n",
    "                print('{} in {} = {} data points'.format(company,day,count))\n",
    "                sleep(0.5)\n",
    "        except:\n",
    "            print('no date')"
   ]
  },
  {
   "cell_type": "code",
   "execution_count": null,
   "metadata": {},
   "outputs": [],
   "source": []
  }
 ],
 "metadata": {
  "kernelspec": {
   "display_name": "Python 3",
   "language": "python",
   "name": "python3"
  },
  "language_info": {
   "codemirror_mode": {
    "name": "ipython",
    "version": 3
   },
   "file_extension": ".py",
   "mimetype": "text/x-python",
   "name": "python",
   "nbconvert_exporter": "python",
   "pygments_lexer": "ipython3",
   "version": "3.7.3"
  }
 },
 "nbformat": 4,
 "nbformat_minor": 4
}
