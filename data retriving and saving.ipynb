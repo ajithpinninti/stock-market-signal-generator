{
 "cells": [
  {
   "cell_type": "code",
   "execution_count": 1,
   "metadata": {
    "collapsed": true,
    "jupyter": {
     "outputs_hidden": true
    }
   },
   "outputs": [
    {
     "name": "stdout",
     "output_type": "stream",
     "text": [
      "Processing c:\\users\\ajith\\appdata\\local\\pip\\cache\\wheels\\f9\\e3\\5b\\ec24dd2984b12d61e0abf26289746c2436a0e7844f26f2515c\\yfinance-0.1.54-py2.py3-none-any.whl\n",
      "Processing c:\\users\\ajith\\appdata\\local\\pip\\cache\\wheels\\37\\fa\\73\\d492849e319038eb4d986f5152e4b19ffb1bc0639da84d2677\\multitasking-0.0.9-cp37-none-any.whl\n",
      "Requirement already satisfied: numpy>=1.15 in c:\\users\\ajith\\anaconda3\\lib\\site-packages (from yfinance) (1.17.3)\n",
      "Requirement already satisfied: requests>=2.20 in c:\\users\\ajith\\anaconda3\\lib\\site-packages (from yfinance) (2.22.0)\n",
      "Requirement already satisfied: pandas>=0.24 in c:\\users\\ajith\\anaconda3\\lib\\site-packages (from yfinance) (0.25.3)\n",
      "Requirement already satisfied: chardet<3.1.0,>=3.0.2 in c:\\users\\ajith\\anaconda3\\lib\\site-packages (from requests>=2.20->yfinance) (3.0.4)\n",
      "Requirement already satisfied: urllib3!=1.25.0,!=1.25.1,<1.26,>=1.21.1 in c:\\users\\ajith\\anaconda3\\lib\\site-packages (from requests>=2.20->yfinance) (1.25.6)\n",
      "Requirement already satisfied: certifi>=2017.4.17 in c:\\users\\ajith\\anaconda3\\lib\\site-packages (from requests>=2.20->yfinance) (2020.6.20)\n",
      "Requirement already satisfied: idna<2.9,>=2.5 in c:\\users\\ajith\\anaconda3\\lib\\site-packages (from requests>=2.20->yfinance) (2.8)\n",
      "Requirement already satisfied: python-dateutil>=2.6.1 in c:\\users\\ajith\\anaconda3\\lib\\site-packages (from pandas>=0.24->yfinance) (2.8.1)\n",
      "Requirement already satisfied: pytz>=2017.2 in c:\\users\\ajith\\anaconda3\\lib\\site-packages (from pandas>=0.24->yfinance) (2019.3)\n",
      "Requirement already satisfied: six>=1.5 in c:\\users\\ajith\\anaconda3\\lib\\site-packages (from python-dateutil>=2.6.1->pandas>=0.24->yfinance) (1.13.0)\n",
      "Installing collected packages: multitasking, yfinance\n",
      "Successfully installed multitasking-0.0.9 yfinance-0.1.54\n"
     ]
    },
    {
     "name": "stderr",
     "output_type": "stream",
     "text": [
      "WARNING: Retrying (Retry(total=4, connect=None, read=None, redirect=None, status=None)) after connection broken by 'ReadTimeoutError(\"HTTPSConnectionPool(host='pypi.org', port=443): Read timed out. (read timeout=15)\")': /simple/multitasking/\n"
     ]
    }
   ],
   "source": [
    "!pip install yfinance"
   ]
  },
  {
   "cell_type": "code",
   "execution_count": 50,
   "metadata": {},
   "outputs": [],
   "source": [
    "import yfinance as yf  #used for data retriving from yahoo finance with 1000API calls/Hour for IP"
   ]
  },
  {
   "cell_type": "markdown",
   "metadata": {},
   "source": [
    "## NSE nifty top 10 stocks list\n",
    ". Here we using top 10 nse stocks of 15 mins data of last 60 mins\n"
   ]
  },
  {
   "cell_type": "code",
   "execution_count": 126,
   "metadata": {},
   "outputs": [],
   "source": [
    "companies = ['HDFCBANK',\n",
    "             'RELIANCE',\n",
    "             'HDFC',\n",
    "             'ICICIBANK',\n",
    "             'INFY',\n",
    "             'TCS',\n",
    "             'KOTAKBANK',\n",
    "             'ITC',\n",
    "             'AXISBANK',\n",
    "            'SBIN']\n",
    "data = {}\n",
    "timeframes = ['1m','2m','5m','30m','1h']"
   ]
  },
  {
   "cell_type": "markdown",
   "metadata": {},
   "source": [
    "## creating and saving all 'companies' 1m(not able),2m,5m,30m,1h' data into data dictionary"
   ]
  },
  {
   "cell_type": "code",
   "execution_count": 127,
   "metadata": {},
   "outputs": [
    {
     "name": "stdout",
     "output_type": "stream",
     "text": [
      "[*********************100%***********************]  1 of 1 completed\n",
      "\n",
      "1 Failed download:\n",
      "- HDFCBANK.NS: 1m data not available for startTime=1593801000 and endTime=1598959916. Only 7 days worth of 1m granularity data are allowed to be fetched per request.\n",
      "[*********************100%***********************]  1 of 1 completed\n",
      "[*********************100%***********************]  1 of 1 completed\n",
      "[*********************100%***********************]  1 of 1 completed\n",
      "[*********************100%***********************]  1 of 1 completed\n",
      "[*********************100%***********************]  1 of 1 completed\n",
      "\n",
      "1 Failed download:\n",
      "- RELIANCE.NS: 1m data not available for startTime=1593801000 and endTime=1598959921. Only 7 days worth of 1m granularity data are allowed to be fetched per request.\n",
      "[*********************100%***********************]  1 of 1 completed\n",
      "[*********************100%***********************]  1 of 1 completed\n",
      "[*********************100%***********************]  1 of 1 completed\n",
      "[*********************100%***********************]  1 of 1 completed\n",
      "[*********************100%***********************]  1 of 1 completed\n",
      "\n",
      "1 Failed download:\n",
      "- HDFC.NS: 1m data not available for startTime=1593801000 and endTime=1598959925. Only 7 days worth of 1m granularity data are allowed to be fetched per request.\n",
      "[*********************100%***********************]  1 of 1 completed\n",
      "[*********************100%***********************]  1 of 1 completed\n",
      "[*********************100%***********************]  1 of 1 completed\n",
      "[*********************100%***********************]  1 of 1 completed\n",
      "[*********************100%***********************]  1 of 1 completed\n",
      "\n",
      "1 Failed download:\n",
      "- ICICIBANK.NS: 1m data not available for startTime=1593801000 and endTime=1598959930. Only 7 days worth of 1m granularity data are allowed to be fetched per request.\n",
      "[*********************100%***********************]  1 of 1 completed\n",
      "[*********************100%***********************]  1 of 1 completed\n",
      "[*********************100%***********************]  1 of 1 completed\n",
      "[*********************100%***********************]  1 of 1 completed\n",
      "[*********************100%***********************]  1 of 1 completed\n",
      "\n",
      "1 Failed download:\n",
      "- INFY.NS: 1m data not available for startTime=1593801000 and endTime=1598959934. Only 7 days worth of 1m granularity data are allowed to be fetched per request.\n",
      "[*********************100%***********************]  1 of 1 completed\n",
      "[*********************100%***********************]  1 of 1 completed\n",
      "[*********************100%***********************]  1 of 1 completed\n",
      "[*********************100%***********************]  1 of 1 completed\n",
      "[*********************100%***********************]  1 of 1 completed\n",
      "\n",
      "1 Failed download:\n",
      "- TCS.NS: 1m data not available for startTime=1593801000 and endTime=1598959939. Only 7 days worth of 1m granularity data are allowed to be fetched per request.\n",
      "[*********************100%***********************]  1 of 1 completed\n",
      "[*********************100%***********************]  1 of 1 completed\n",
      "[*********************100%***********************]  1 of 1 completed\n",
      "[*********************100%***********************]  1 of 1 completed\n",
      "[*********************100%***********************]  1 of 1 completed\n",
      "\n",
      "1 Failed download:\n",
      "- KOTAKBANK.NS: 1m data not available for startTime=1593801000 and endTime=1598959943. Only 7 days worth of 1m granularity data are allowed to be fetched per request.\n",
      "[*********************100%***********************]  1 of 1 completed\n",
      "[*********************100%***********************]  1 of 1 completed\n",
      "[*********************100%***********************]  1 of 1 completed\n",
      "[*********************100%***********************]  1 of 1 completed\n",
      "[*********************100%***********************]  1 of 1 completed\n",
      "\n",
      "1 Failed download:\n",
      "- ITC.NS: 1m data not available for startTime=1593801000 and endTime=1598959955. Only 7 days worth of 1m granularity data are allowed to be fetched per request.\n",
      "[*********************100%***********************]  1 of 1 completed\n",
      "[*********************100%***********************]  1 of 1 completed\n",
      "[*********************100%***********************]  1 of 1 completed\n",
      "[*********************100%***********************]  1 of 1 completed\n",
      "[*********************100%***********************]  1 of 1 completed\n",
      "\n",
      "1 Failed download:\n",
      "- AXISBANK.NS: 1m data not available for startTime=1593801000 and endTime=1598959960. Only 7 days worth of 1m granularity data are allowed to be fetched per request.\n",
      "[*********************100%***********************]  1 of 1 completed\n",
      "[*********************100%***********************]  1 of 1 completed\n",
      "[*********************100%***********************]  1 of 1 completed\n",
      "[*********************100%***********************]  1 of 1 completed\n",
      "[*********************100%***********************]  1 of 1 completed\n",
      "\n",
      "1 Failed download:\n",
      "- SBIN.NS: 1m data not available for startTime=1593801000 and endTime=1598959966. Only 7 days worth of 1m granularity data are allowed to be fetched per request.\n",
      "[*********************100%***********************]  1 of 1 completed\n",
      "[*********************100%***********************]  1 of 1 completed\n",
      "[*********************100%***********************]  1 of 1 completed\n",
      "[*********************100%***********************]  1 of 1 completed\n"
     ]
    }
   ],
   "source": [
    "#creating and saving all companies 5m data into data dictionary\n",
    "\n",
    "for company in companies:\n",
    "    for time in timeframes:\n",
    "        data[company+'_'+time] = yf.download(                     # or pdr.get_data_yahoo(...\n",
    "                                                         # tickers list or string as well\n",
    "            tickers = company + \".NS\",\n",
    "\n",
    "        # use \"period\" instead of start/end\n",
    "        # valid periods: 1d,5d,1mo,3mo,6mo,1y,2y,5y,10y,ytd,max\n",
    "        # (optional, default is '1mo')\n",
    "        # period = \"10y\",\n",
    "\n",
    "        # fetch data by interval (including intraday if period < 60 days)\n",
    "        # valid intervals: 1m,2m,5m,15m,30m,60m,90m,1h,1d,5d,1wk,1mo,3mo\n",
    "        # (optional, default is '1d')\n",
    "            interval = time ,\n",
    "\n",
    "        # group by ticker (to access via data['SPY'])\n",
    "        # (optional, default is 'column')\n",
    "            start ='2020-07-04',\n",
    "    \n",
    "        #Download start date string (YYYY-MM-DD) or _datetime.\n",
    "        #Default is 1900-01-01\n",
    "            #end ='2020-09-01',\n",
    "    \n",
    "        #Download end date string (YYYY-MM-DD) or _datetime.\n",
    "        #Default is now\n",
    "            group_by = 'ticker',\n",
    "\n",
    "        # adjust all OHLC automatically\n",
    "        # (optional, default is False)\n",
    "            auto_adjust = True,\n",
    "\n",
    "        # download pre/post regular market hours data\n",
    "        # (optional, default is False)\n",
    "            prepost = True,\n",
    "\n",
    "        # use threads for mass downloading? (True/False/Integer)\n",
    "        # (optional, default is True)\n",
    "            threads = True,\n",
    "\n",
    "        # proxy URL scheme use use when downloading?\n",
    "        # (optional, default is None)\n",
    "            proxy = None\n",
    "        )"
   ]
  },
  {
   "cell_type": "markdown",
   "metadata": {},
   "source": [
    "## Creating folders and save csv files into it with timeframes"
   ]
  },
  {
   "cell_type": "markdown",
   "metadata": {},
   "source": [
    "## Change parent dictionary in parent_dir for another path"
   ]
  },
  {
   "cell_type": "code",
   "execution_count": 132,
   "metadata": {},
   "outputs": [
    {
     "name": "stdout",
     "output_type": "stream",
     "text": [
      "Directory 'HDFCBANK' created\n",
      "C:/Users/ajith/research/Datasets\\HDFCBANKHDFCBANK_1mcreated......\n",
      "C:/Users/ajith/research/Datasets\\HDFCBANKHDFCBANK_2mcreated......\n",
      "C:/Users/ajith/research/Datasets\\HDFCBANKHDFCBANK_5mcreated......\n",
      "C:/Users/ajith/research/Datasets\\HDFCBANKHDFCBANK_30mcreated......\n",
      "C:/Users/ajith/research/Datasets\\HDFCBANKHDFCBANK_1hcreated......\n",
      "Directory 'RELIANCE' created\n",
      "C:/Users/ajith/research/Datasets\\RELIANCERELIANCE_1mcreated......\n",
      "C:/Users/ajith/research/Datasets\\RELIANCERELIANCE_2mcreated......\n",
      "C:/Users/ajith/research/Datasets\\RELIANCERELIANCE_5mcreated......\n",
      "C:/Users/ajith/research/Datasets\\RELIANCERELIANCE_30mcreated......\n",
      "C:/Users/ajith/research/Datasets\\RELIANCERELIANCE_1hcreated......\n",
      "Directory 'HDFC' created\n",
      "C:/Users/ajith/research/Datasets\\HDFCHDFC_1mcreated......\n",
      "C:/Users/ajith/research/Datasets\\HDFCHDFC_2mcreated......\n",
      "C:/Users/ajith/research/Datasets\\HDFCHDFC_5mcreated......\n",
      "C:/Users/ajith/research/Datasets\\HDFCHDFC_30mcreated......\n",
      "C:/Users/ajith/research/Datasets\\HDFCHDFC_1hcreated......\n",
      "Directory 'ICICIBANK' created\n",
      "C:/Users/ajith/research/Datasets\\ICICIBANKICICIBANK_1mcreated......\n",
      "C:/Users/ajith/research/Datasets\\ICICIBANKICICIBANK_2mcreated......\n",
      "C:/Users/ajith/research/Datasets\\ICICIBANKICICIBANK_5mcreated......\n",
      "C:/Users/ajith/research/Datasets\\ICICIBANKICICIBANK_30mcreated......\n",
      "C:/Users/ajith/research/Datasets\\ICICIBANKICICIBANK_1hcreated......\n",
      "Directory 'INFY' created\n",
      "C:/Users/ajith/research/Datasets\\INFYINFY_1mcreated......\n",
      "C:/Users/ajith/research/Datasets\\INFYINFY_2mcreated......\n",
      "C:/Users/ajith/research/Datasets\\INFYINFY_5mcreated......\n",
      "C:/Users/ajith/research/Datasets\\INFYINFY_30mcreated......\n",
      "C:/Users/ajith/research/Datasets\\INFYINFY_1hcreated......\n",
      "Directory 'TCS' created\n",
      "C:/Users/ajith/research/Datasets\\TCSTCS_1mcreated......\n",
      "C:/Users/ajith/research/Datasets\\TCSTCS_2mcreated......\n",
      "C:/Users/ajith/research/Datasets\\TCSTCS_5mcreated......\n",
      "C:/Users/ajith/research/Datasets\\TCSTCS_30mcreated......\n",
      "C:/Users/ajith/research/Datasets\\TCSTCS_1hcreated......\n",
      "Directory 'KOTAKBANK' created\n",
      "C:/Users/ajith/research/Datasets\\KOTAKBANKKOTAKBANK_1mcreated......\n",
      "C:/Users/ajith/research/Datasets\\KOTAKBANKKOTAKBANK_2mcreated......\n",
      "C:/Users/ajith/research/Datasets\\KOTAKBANKKOTAKBANK_5mcreated......\n",
      "C:/Users/ajith/research/Datasets\\KOTAKBANKKOTAKBANK_30mcreated......\n",
      "C:/Users/ajith/research/Datasets\\KOTAKBANKKOTAKBANK_1hcreated......\n",
      "Directory 'ITC' created\n",
      "C:/Users/ajith/research/Datasets\\ITCITC_1mcreated......\n",
      "C:/Users/ajith/research/Datasets\\ITCITC_2mcreated......\n",
      "C:/Users/ajith/research/Datasets\\ITCITC_5mcreated......\n",
      "C:/Users/ajith/research/Datasets\\ITCITC_30mcreated......\n",
      "C:/Users/ajith/research/Datasets\\ITCITC_1hcreated......\n",
      "Directory 'AXISBANK' created\n",
      "C:/Users/ajith/research/Datasets\\AXISBANKAXISBANK_1mcreated......\n",
      "C:/Users/ajith/research/Datasets\\AXISBANKAXISBANK_2mcreated......\n",
      "C:/Users/ajith/research/Datasets\\AXISBANKAXISBANK_5mcreated......\n",
      "C:/Users/ajith/research/Datasets\\AXISBANKAXISBANK_30mcreated......\n",
      "C:/Users/ajith/research/Datasets\\AXISBANKAXISBANK_1hcreated......\n",
      "Directory 'SBIN' created\n",
      "C:/Users/ajith/research/Datasets\\SBINSBIN_1mcreated......\n",
      "C:/Users/ajith/research/Datasets\\SBINSBIN_2mcreated......\n",
      "C:/Users/ajith/research/Datasets\\SBINSBIN_5mcreated......\n",
      "C:/Users/ajith/research/Datasets\\SBINSBIN_30mcreated......\n",
      "C:/Users/ajith/research/Datasets\\SBINSBIN_1hcreated......\n"
     ]
    }
   ],
   "source": [
    "import os\n",
    "parent_dir = 'C:/Users/ajith/research/Datasets'  #parent directory\n",
    "for company in companies:       #creating folders for ever company\n",
    "    path = os.path.join(parent_dir, company)   #path  name = company name\n",
    "    try:                    #checking for name exist error                \n",
    "        os.mkdir(path)  # Create the directory \n",
    "        print(\"Directory '% s' created\" % company)\n",
    "    except:\n",
    "        print(\"already '%s' is there \" % company)\n",
    "    for time in timeframes:             #save in the form of time frame\n",
    "        data[company+'_'+time].to_csv(parent_dir + '/'+ company+'/'+ company +'_' + time+'.csv') #creating file name\n",
    "        print(path + company+'_'+time+'created......')\n",
    "\n",
    "#data['HDFC'].to_csv('HDFC.csv')"
   ]
  },
  {
   "cell_type": "code",
   "execution_count": null,
   "metadata": {},
   "outputs": [],
   "source": []
  }
 ],
 "metadata": {
  "kernelspec": {
   "display_name": "Python 3",
   "language": "python",
   "name": "python3"
  },
  "language_info": {
   "codemirror_mode": {
    "name": "ipython",
    "version": 3
   },
   "file_extension": ".py",
   "mimetype": "text/x-python",
   "name": "python",
   "nbconvert_exporter": "python",
   "pygments_lexer": "ipython3",
   "version": "3.7.3"
  }
 },
 "nbformat": 4,
 "nbformat_minor": 4
}
