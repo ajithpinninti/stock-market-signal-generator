{
 "cells": [
  {
   "cell_type": "markdown",
   "metadata": {},
   "source": [
    "# no.3"
   ]
  },
  {
   "cell_type": "markdown",
   "metadata": {},
   "source": [
    "###  company_yearwise_data -----> allyears_company_data.txt"
   ]
  },
  {
   "cell_type": "code",
   "execution_count": 11,
   "metadata": {},
   "outputs": [],
   "source": [
    "import os\n",
    "import time"
   ]
  },
  {
   "cell_type": "code",
   "execution_count": 15,
   "metadata": {},
   "outputs": [
    {
     "name": "stdout",
     "output_type": "stream",
     "text": [
      "already there\n"
     ]
    }
   ],
   "source": [
    "yeardata = 'C:/Users/ajith/research/data/Year Data/'\n",
    "common = 'whole_data'\n",
    "years = ['2017','2018','2019','2020']\n",
    "companies = ['HDFCBANK',\n",
    "             'RELIANCE',\n",
    "             'HDFC',\n",
    "             'ICICIBANK',\n",
    "             'INFY',\n",
    "             'TCS',\n",
    "             'KOTAKBANK',\n",
    "             'ITC',\n",
    "             'AXISBANK',\n",
    "            'SBIN']\n",
    "location = 'C:/Users/ajith/research/data/clean_data'\n",
    "try:\n",
    "    os.mkdir(location)\n",
    "except:\n",
    "    print('already there')\n"
   ]
  },
  {
   "cell_type": "markdown",
   "metadata": {},
   "source": [
    "### merging all years of companies"
   ]
  },
  {
   "cell_type": "code",
   "execution_count": 18,
   "metadata": {},
   "outputs": [
    {
     "name": "stdout",
     "output_type": "stream",
     "text": [
      "Ticker,Date,Time,Open,High,Low,Close,Volume,nan\n",
      "\n"
     ]
    }
   ],
   "source": [
    "print(\"Ticker,Date,Time,Open,High,Low,Close,Volume,nan\\n\")"
   ]
  },
  {
   "cell_type": "code",
   "execution_count": 19,
   "metadata": {},
   "outputs": [
    {
     "name": "stdout",
     "output_type": "stream",
     "text": [
      "in HDFCBANK .....\n",
      "\n",
      "total  data of HDFCBANK is 345606\n",
      "in RELIANCE .....\n",
      "\n",
      "total  data of RELIANCE is 344521\n",
      "in HDFC .....\n",
      "\n",
      "total  data of HDFC is 345455\n",
      "in ICICIBANK .....\n",
      "\n",
      "total  data of ICICIBANK is 348364\n",
      "in INFY .....\n",
      "\n",
      "total  data of INFY is 349382\n",
      "in TCS .....\n",
      "\n",
      "total  data of TCS is 347543\n",
      "in KOTAKBANK .....\n",
      "\n",
      "total  data of KOTAKBANK is 339367\n",
      "in ITC .....\n",
      "\n",
      "total  data of ITC is 349179\n",
      "in AXISBANK .....\n",
      "\n",
      "total  data of AXISBANK is 347378\n",
      "in SBIN .....\n",
      "\n",
      "total  data of SBIN is 351290\n"
     ]
    }
   ],
   "source": [
    "for company in companies:     #all years of companies\n",
    "    print('in %s .....\\n'%company)\n",
    "    data = \"Ticker,Date,Time,Open,High,Low,Close,Volume,nan\\n\"\n",
    "    for year in years:  # company in companies list\n",
    "        #print('for %s company .....................\\n'%year)\n",
    "        try:\n",
    "            with open(yeardata+year+common+'/'+company+'_'+year+'.txt') as cache:\n",
    "                data = data+cache.read()\n",
    "        except:\n",
    "            print('error %s year'%year)\n",
    "    with open(location+'/'+company+'.txt', 'w') as fp: #creating text filewith companyyear.txt\n",
    "        fp.write(data)  \n",
    "    print('total  data of {} is {}'.format(company,data.count(company)))\n",
    "        "
   ]
  },
  {
   "cell_type": "code",
   "execution_count": null,
   "metadata": {},
   "outputs": [],
   "source": []
  }
 ],
 "metadata": {
  "kernelspec": {
   "display_name": "Python 3",
   "language": "python",
   "name": "python3"
  },
  "language_info": {
   "codemirror_mode": {
    "name": "ipython",
    "version": 3
   },
   "file_extension": ".py",
   "mimetype": "text/x-python",
   "name": "python",
   "nbconvert_exporter": "python",
   "pygments_lexer": "ipython3",
   "version": "3.7.3"
  }
 },
 "nbformat": 4,
 "nbformat_minor": 4
}
