{
 "cells": [
  {
   "cell_type": "code",
   "execution_count": 1,
   "metadata": {},
   "outputs": [],
   "source": [
    "import pandas as pd\n",
    "import numpy as np\n",
    "import matplotlib.pyplot as plt"
   ]
  },
  {
   "cell_type": "code",
   "execution_count": 29,
   "metadata": {},
   "outputs": [],
   "source": [
    "sample = pd.read_csv('HDFC_15.csv')\n",
    "sample =sample.drop(labels = ['Unnamed: 0','Unnamed: 0.1'],axis = 1)\n",
    "cols = ['Ticker','Date','Open','High','Low','Close','Volume']\n",
    "sample = sample[cols]"
   ]
  },
  {
   "cell_type": "code",
   "execution_count": 94,
   "metadata": {},
   "outputs": [],
   "source": [
    "target = sample['Close'].shift(-1)  #target - close\n",
    "feature = target - sample['Close']\n",
    "status = (feature>0).astype(int)"
   ]
  },
  {
   "cell_type": "markdown",
   "metadata": {},
   "source": [
    "## Features Adding"
   ]
  },
  {
   "cell_type": "code",
   "execution_count": 1,
   "metadata": {},
   "outputs": [],
   "source": [
    "import talib as ta"
   ]
  },
  {
   "cell_type": "markdown",
   "metadata": {},
   "source": [
    "### Overlap Studies Functions"
   ]
  },
  {
   "cell_type": "code",
   "execution_count": null,
   "metadata": {},
   "outputs": [],
   "source": [
    "\n",
    "# BBANDS - Bollinger Bands\n",
    "upperband, middleband, lowerband = ta.BBANDS(close, timeperiod=5, nbdevup=2, nbdevdn=2, matype=0)\n",
    "\n",
    "#DEMA - Double Exponential Moving Average\n",
    "DEMA = ta.DEMA(close, timeperiod=30)\n",
    "\n",
    "#EMA - Exponential Moving Average\n",
    "#NOTE: The EMA function has an unstable period.\n",
    "EMA = ta.EMA(close, timeperiod=30)\n",
    "\n",
    "#HT_TRENDLINE - Hilbert Transform - Instantaneous Trendline\n",
    "#NOTE: The HT_TRENDLINE function has an unstable period.\n",
    "HT_TRENDLINE = ta.HT_TRENDLINE(close)\n",
    "\n",
    "# KAMA - Kaufman Adaptive Moving Average\n",
    "#NOTE: The KAMA function has an unstable period.\n",
    "KAMA = ta.KAMA(close, timeperiod=30)\n",
    "\n",
    "#MA - Moving average\n",
    "MA = ta.MA(close, timeperiod=30, matype=0)\n",
    "\n",
    "#MAMA - MESA Adaptive Moving Average\n",
    "#NOTE: The MAMA function has an unstable period.\n",
    "mama, fama = ta.MAMA(close, fastlimit=0, slowlimit=0)\n",
    "\n",
    "# MAVP - Moving average with variable period\n",
    "real = ta.MAVP(close, periods, minperiod=2, maxperiod=30, matype=0)\n",
    "\n",
    "# MIDPOINT - MidPoint over period\n",
    "real = ta.MIDPOINT(close, timeperiod=14)\n",
    "\n",
    "# MIDPRICE - Midpoint Price over period\n",
    "real = ta.MIDPRICE(high, low, timeperiod=14)\n",
    "\n",
    "# SAR - Parabolic SAR\n",
    "real = ta.SAR(high, low, acceleration=0, maximum=0)\n",
    "\n",
    "# SAREXT - Parabolic SAR - Extended\n",
    "real = ta.SAREXT(high, low, startvalue=0, offsetonreverse=0, accelerationinitlong=0, accelerationlong=0, accelerationmaxlong=0, accelerationinitshort=0, accelerationshort=0, accelerationmaxshort=0)\n",
    "\n",
    "#SMA - Simple Moving Average\n",
    "real = ta.SMA(close, timeperiod=30)\n",
    "\n",
    "# T3 - Triple Exponential Moving Average (T3)\n",
    "#NOTE: The T3 function has an unstable period.\n",
    "real = ta.T3(close, timeperiod=5, vfactor=0)\n",
    "\n",
    "# TEMA - Triple Exponential Moving Average\n",
    "real = ta.TEMA(close, timeperiod=30)\n",
    "\n",
    "#TRIMA - Triangular Moving Average\n",
    "real = ta.TRIMA(close, timeperiod=30)\n",
    "\n",
    "# WMA - Weighted Moving Average\n",
    "real = ta.WMA(close, timeperiod=30)\n",
    "\n",
    "\n"
   ]
  },
  {
   "cell_type": "markdown",
   "metadata": {},
   "source": [
    "## Momentum Indicator Functions"
   ]
  },
  {
   "cell_type": "code",
   "execution_count": null,
   "metadata": {},
   "outputs": [],
   "source": [
    "# ADX - Average Directional Movement Index\n",
    "ADX = ta.ADX(high, low, close, timeperiod=14)\n",
    "\n",
    "# ADXR - Average Directional Movement Index Rating\n",
    "ADXR = ta.ADXR(high, low, close, timeperiod=14)\n",
    "\n",
    "# APO - Absolute Price Oscillator\n",
    "APO = ta.APO(close, fastperiod=12, slowperiod=26, matype=0)\n",
    "\n",
    "# AROON - Aroon\n",
    "aroondown, aroonup = ta.AROON(high, low, timeperiod=14)\n",
    "\n",
    "# AROONOSC - Aroon Oscillator\n",
    "AROONOSC = ta.AROONOSC(high, low, timeperiod=14)\n",
    "\n",
    "# BOP - Balance Of Power\n",
    "BOP = ta.BOP(open, high, low, close)\n",
    "\n",
    "# CCI - Commodity Channel Index\n",
    "CCI = ta.CCI(high, low, close, timeperiod=14)\n",
    "\n",
    "# CMO - Chande Momentum Oscillator\n",
    "# NOTE: The CMO function has an unstable period.\n",
    "CMO = ta.CMO(close, timeperiod=14)\n",
    "\n",
    "# DX - Directional Movement Index\n",
    "# NOTE: The DX function has an unstable period.\n",
    "DX = ta.DX(high, low, close, timeperiod=14)\n",
    "\n",
    "# MACD - Moving Average Convergence/Divergence\n",
    "macd, macdsignal, macdhist = ta.MACD(close, fastperiod=12, slowperiod=26, signalperiod=9)\n",
    "\n",
    "# MACDEXT - MACD with controllable MA type\n",
    "macd, macdsignal, macdhist = ta.MACDEXT(close, fastperiod=12, fastmatype=0, slowperiod=26, slowmatype=0, signalperiod=9, signalmatype=0)\n",
    "\n",
    "# MACDFIX - Moving Average Convergence/Divergence Fix 12/26\n",
    "macd, macdsignal, macdhist = ta.MACDFIX(close, signalperiod=9)\n",
    "\n",
    "# MFI - Money Flow Index\n",
    "# NOTE: The MFI function has an unstable period.\n",
    "MFI = ta.MFI(high, low, close, volume, timeperiod=14)\n",
    "\n",
    "# MINUS_DI - Minus Directional Indicator\n",
    "# NOTE: The MINUS_DI function has an unstable period.\n",
    "MINUS_DI = ta.MINUS_DI(high, low, close, timeperiod=14)\n",
    "\n",
    "# MINUS_DM - Minus Directional Movement\n",
    "# NOTE: The MINUS_DM function has an unstable period.\n",
    "MINUS_DM = ta.MINUS_DM(high, low, timeperiod=14)\n",
    "\n",
    "# MOM - Momentum\n",
    "MOM = ta.MOM(close, timeperiod=10)\n",
    "\n",
    "# PLUS_DI - Plus Directional Indicator\n",
    "# NOTE: The PLUS_DI function has an unstable period.\n",
    "PLUS_DI = ta.PLUS_DI(high, low, close, timeperiod=14)\n",
    "\n",
    "# PLUS_DM - Plus Directional Movement\n",
    "# NOTE: The PLUS_DM function has an unstable period.\n",
    "PLUS_DM = ta.PLUS_DM(high, low, timeperiod=14)\n",
    "\n",
    "# PPO - Percentage Price Oscillator\n",
    "PPO = ta.PPO(close, fastperiod=12, slowperiod=26, matype=0)\n",
    "\n",
    "# ROC - Rate of change : ((price/prevPrice)-1)*100\n",
    "ROC = ta.ROC(close, timeperiod=10)\n",
    "\n",
    "# ROCP - Rate of change Percentage: (price-prevPrice)/prevPrice\n",
    "ROCP = ta.ROCP(close, timeperiod=10)\n",
    "\n",
    "# ROCR - Rate of change ratio: (price/prevPrice)\n",
    "ROCR = ta.ROCR(close, timeperiod=10)\n",
    "\n",
    "# ROCR100 - Rate of change ratio 100 scale: (price/prevPrice)*100\n",
    "ROCR100 = ta.ROCR100(close, timeperiod=10)\n",
    "\n",
    "# RSI - Relative Strength Index\n",
    "# NOTE: The RSI function has an unstable period.\n",
    "RSI = ta.RSI(close, timeperiod=14)\n",
    "\n",
    "# STOCH - Stochastic\n",
    "slowk, slowd = ta.STOCH(high, low, close, fastk_period=5, slowk_period=3, slowk_matype=0, slowd_period=3, slowd_matype=0)\n",
    "\n",
    "# STOCHF - Stochastic Fast\n",
    "fastk, fastd = ta.STOCHF(high, low, close, fastk_period=5, fastd_period=3, fastd_matype=0)\n",
    "\n",
    "# STOCHRSI - Stochastic Relative Strength Index\n",
    "# NOTE: The STOCHRSI function has an unstable period.\n",
    "fastk, fastd = ta.STOCHRSI(close, timeperiod=14, fastk_period=5, fastd_period=3, fastd_matype=0)\n",
    "\n",
    "# TRIX - 1-day Rate-Of-Change (ROC) of a Triple Smooth EMA\n",
    "TRIX = ta.TRIX(close, timeperiod=30)\n",
    "\n",
    "# ULTOSC - Ultimate Oscillator\n",
    "ULTOSC = ta.ULTOSC(high, low, close, timeperiod1=7, timeperiod2=14, timeperiod3=28)\n",
    "\n",
    "# WILLR - Williams' %R\n",
    "WILLR = ta.WILLR(high, low, close, timeperiod=14)\n"
   ]
  },
  {
   "cell_type": "markdown",
   "metadata": {},
   "source": [
    "###  Volume Indicator Functions"
   ]
  },
  {
   "cell_type": "code",
   "execution_count": null,
   "metadata": {},
   "outputs": [],
   "source": [
    "# AD - Chaikin A/D Line\n",
    "AD = ta.AD(high, low, close, volume)\n",
    "\n",
    "# ADOSC - Chaikin A/D Oscillator\n",
    "ADOSC = ta.ADOSC(high, low, close, volume, fastperiod=3, slowperiod=10)\n",
    "\n",
    "# OBV - On Balance Volume\n",
    "OBV = ta.OBV(close, volume)\n"
   ]
  },
  {
   "cell_type": "markdown",
   "metadata": {},
   "source": [
    "### Volatility Indicator Functions\n"
   ]
  },
  {
   "cell_type": "code",
   "execution_count": null,
   "metadata": {},
   "outputs": [],
   "source": [
    "# ATR - Average True Range\n",
    "# NOTE: The ATR function has an unstable period.\n",
    "ATR = ta.ATR(high, low, close, timeperiod=14)\n",
    "\n",
    "# NATR - Normalized Average True Range\n",
    "# NOTE: The NATR function has an unstable period.\n",
    "NATR = ta.NATR(high, low, close, timeperiod=14)\n",
    "\n",
    "# TRANGE - True Range\n",
    "TRANGE = ta.TRANGE(high, low, close)\n"
   ]
  },
  {
   "cell_type": "code",
   "execution_count": null,
   "metadata": {},
   "outputs": [],
   "source": []
  }
 ],
 "metadata": {
  "kernelspec": {
   "display_name": "Python 3",
   "language": "python",
   "name": "python3"
  },
  "language_info": {
   "codemirror_mode": {
    "name": "ipython",
    "version": 3
   },
   "file_extension": ".py",
   "mimetype": "text/x-python",
   "name": "python",
   "nbconvert_exporter": "python",
   "pygments_lexer": "ipython3",
   "version": "3.7.3"
  }
 },
 "nbformat": 4,
 "nbformat_minor": 4
}
