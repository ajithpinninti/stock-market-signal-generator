{
  "cells": [
    {
      "cell_type": "code",
      "execution_count": 6,
      "metadata": {
        "id": "Oq57GbCmyVFA"
      },
      "outputs": [],
      "source": [
        "from IPython. display import clear_output\n",
        "!pip install talib-binary\n",
        "!pip install -i https://pypi.anaconda.org/ranaroussi/simple yfinance\n",
        "!pip install yfinance\n",
        "!pip install pyttsx3\n",
        "!sudo apt install espeak\n",
        "clear_output()"
      ]
    },
    {
      "cell_type": "code",
      "execution_count": 20,
      "metadata": {
        "id": "eg99edQkxBt_"
      },
      "outputs": [],
      "source": [
        "import numpy as np\n",
        "import pandas as pd\n",
        "import yfinance as yf\n",
        "yf.pdr_override()\n",
        "from pandas_datareader import data as pdr\n",
        "import pickle as pkl\n",
        "import talib as ta\n",
        "from time import *\n",
        "import datetime\n",
        "from datetime import date \n",
        "import pyttsx3\n",
        "engine = pyttsx3.init()\n",
        "voices = engine.getProperty('voices')       #getting details of current voice\n",
        "#engine.setProperty('voice', voices[0].id)  #changing index, changes voices. o for male\n",
        "engine.setProperty('voice', voices[1].id)   #changing index, changes voices. 1 for female\n",
        "newVoiceRate = 160\n",
        "engine.setProperty('rate',newVoiceRate)\n",
        "engine.say('Hello Sir. Welcome to stock screening')\n",
        "engine.runAndWait()"
      ]
    },
    {
      "cell_type": "markdown",
      "metadata": {
        "id": "Telp0xLuxBuI"
      },
      "source": [
        "## real code run here"
      ]
    },
    {
      "cell_type": "markdown",
      "metadata": {
        "id": "J1SwMgbKxBuL"
      },
      "source": [
        "### data downloading"
      ]
    },
    {
      "cell_type": "code",
      "execution_count": 10,
      "metadata": {
        "id": "kYJxxOFXxBuM"
      },
      "outputs": [],
      "source": [
        "def get_data(timefra,companies,date):    \n",
        "    \n",
        "    '''return data of whole companies'''\n",
        "    timeframes = [timefra]\n",
        "    \n",
        "    for time in timeframes:\n",
        "        # download dataframe\n",
        "        dataset = pdr.get_data_yahoo(companies, \n",
        "                                  start = date,\n",
        "                                  #end=\"2017-04-30\",\n",
        "                                  interval = time,\n",
        "                                  group_by ='ticker'\n",
        "                                 )\n",
        "    return dataset"
      ]
    },
    {
      "cell_type": "code",
      "execution_count": 11,
      "metadata": {
        "id": "8rno4d1-xBuN"
      },
      "outputs": [],
      "source": [
        "\n",
        "def check_rsi(data,companies):\n",
        "    '''\n",
        "    return stocks with rsi in overbought and oversold in order\n",
        "    data = data of all companies which group by ticker\n",
        "    companies = list of companies in order of data companies\n",
        "    \n",
        "    return:\n",
        "    rsi_overbought_companies,rsi_oversold_companies   \n",
        "    \n",
        "    '''\n",
        "    div_bought_companies = {}\n",
        "    div_sold_companies = {}\n",
        "    for company in companies:\n",
        "        divergence = ta.RSI(data[company]['Close'],timeperiod = 14)\n",
        "        #data.loc.__setitem__((slice(None), (company, 'Divergence')), divergence)\n",
        "        rsi = np.array([ divergence[-2],divergence[-3] ])\n",
        "        if np.max(rsi) >= 70 :\n",
        "            div_bought_companies[company] = np.max(rsi)\n",
        "        elif np.min(rsi) <= 30:\n",
        "            div_sold_companies[company] = np.min(rsi)\n",
        "        else:\n",
        "            continue\n",
        "    div_bought_companies = sorted( div_bought_companies.items(), key=lambda  v: v[1] , reverse=True)    \n",
        "    div_sold_companies =   sorted( div_sold_companies.items(), key=lambda  v: v[1] )\n",
        "    return div_bought_companies,div_sold_companies\n",
        "    "
      ]
    },
    {
      "cell_type": "code",
      "execution_count": 16,
      "metadata": {
        "id": "yl_Ul5VRxBuO"
      },
      "outputs": [],
      "source": [
        "def start(companies , date,data):\n",
        "    global rsi_overbought_companies,rsi_oversold_companies\n",
        "    \n",
        "    #1st turn\n",
        "    engine.say('Screening started')\n",
        "    engine.runAndWait()\n",
        "    dataset = get_data('5m',companies,date)\n",
        "    #live dataset cleaning....\n",
        "    array = dataset.index.time.copy()\n",
        "    seconds = lambda t: int(t.strftime(\"%H:%M:%S\")[-2:])\n",
        "    minutes = lambda x: int(x.strftime(\"%H:%M:%S\")[-5:-3])\n",
        "    minute = np.array([minutes(xi) for xi in array])\n",
        "    dataset = dataset[minute%5 == 0]\n",
        "    array = dataset.index.time.copy()\n",
        "    second = np.array([seconds(xi) for xi in array])\n",
        "    dataset = dataset[second==0]\n",
        "            \n",
        "    rsi_overbought_companies,rsi_oversold_companies = check_rsi(dataset , companies)\n",
        "    #print(rsi_overbought_companies)\n",
        "    if(len(rsi_overbought_companies)  or len(rsi_oversold_companies) ):\n",
        "                                                                \n",
        "        %store rsi_overbought_companies\n",
        "        %store rsi_oversold_companies\n",
        "        engine.say('Sir. Companies detected')\n",
        "        engine.runAndWait()\n",
        "        \n",
        "        print(\"\\n --\",strftime(\"%H:%M:%S\", localtime()),\"---\\n\")\n",
        "        \n",
        "        print(\" ============= \\n\",\"rsi_overbought_companies\\n\" )\n",
        "        print(*rsi_overbought_companies, sep=\"\\n\")\n",
        "        print(\"\\n rsi_oversold_companies \\n\" )\n",
        "        print(*rsi_oversold_companies,sep = \"\\n\")\n",
        "        print(\"\\n ===========\\n\")\n",
        "        \n",
        "        \n",
        "    # next turns\n",
        "                                                          \n",
        "    while True:      \n",
        "        # %store -r var #to retrive data from another notebook\n",
        "        var = 1\n",
        "        if var:\n",
        "            engine.say('Screening started')\n",
        "            engine.runAndWait()\n",
        "            dataset = get_data('5m',companies,date)\n",
        "            #live dataset cleaning....\n",
        "            array = dataset.index.time.copy()\n",
        "            seconds = lambda t: int(t.strftime(\"%H:%M:%S\")[-2:])\n",
        "            minutes = lambda x: int(x.strftime(\"%H:%M:%S\")[-5:-3])\n",
        "            minute = np.array([minutes(xi) for xi in array])\n",
        "            dataset = dataset[minute%5 == 0]\n",
        "            array = dataset.index.time.copy()\n",
        "            second = np.array([seconds(xi) for xi in array])\n",
        "            dataset = dataset[second==0]\n",
        "            \n",
        "            rsi_overbought_companies,rsi_oversold_companies = check_rsi(dataset , companies)\n",
        "            if(len(rsi_overbought_companies) or len(rsi_oversold_companies) ):\n",
        "                %store rsi_overbought_companies\n",
        "                %store rsi_oversold_companies\n",
        "                engine.say('companies detected')\n",
        "                engine.runAndWait()\n",
        "        \n",
        "                print(\"\\n --\",strftime(\"%H:%M:%S\", localtime()),\"---\\n\")\n",
        "            \n",
        "                print(\" ============= \\n\",\"rsi_overbought_companies\\n\" )\n",
        "                print(*rsi_overbought_companies, sep=\"\\n\")\n",
        "                print(\"\\n rsi_oversold_companies \\n\" )\n",
        "                print(*rsi_oversold_companies,sep = \"\\n\")\n",
        "                print(\"\\n ===========\\n\")\n",
        "            else:\n",
        "                engine.say('No companies are detected')\n",
        "                engine.runAndWait()\n",
        "            %store -r var\n",
        "            print(var)\n",
        "            sleep((3)*60) \n",
        "            print(var)"
      ]
    },
    {
      "cell_type": "code",
      "execution_count": 13,
      "metadata": {
        "id": "ZIhbraZbxBuR"
      },
      "outputs": [],
      "source": [
        "data = pd.read_csv('ind_nifty50list.csv')\n",
        "symbols = data['Symbol']\n",
        "companies = list(symbols+\".NS\")\n",
        "timeframes = ['15m']\n",
        "today = datetime.date.today()\n",
        "date  = ( today - datetime.timedelta(days = 1) ).strftime(\"%Y-%m-%d\")\n"
      ]
    },
    {
      "cell_type": "code",
      "execution_count": 14,
      "metadata": {
        "id": "spqbUQZ8xBuS"
      },
      "outputs": [],
      "source": [
        "adder = lambda x: x+\".NS\"\n",
        "companies = np.array(['HDFC','UPL','TITAN','TECHM','TATASTEEL','TATAMOTORS','SHREECEM','SBILIFE','RELIANCE','ONGC','M&M',\n",
        "         'LT','IOC','ITC','JSWSTEEL','KOTAKBANK','BAJAJ-AUTO','BAJAJFINSV','BPCL','BHARTIARTL','BRITANNIA',\n",
        "         'CIPLA','COALINDIA','EICHERMOT','GAIL','GRASIM','HCLTECH','HDFCLIFE','IOC','HINDALCO','HINDUNILVR',\n",
        "          'HDFC','SUNTV','BATAINDIA','ASHOKLEY','SIEMENS','STAR','ZEEL','CENTURYTEX','SRTRANSFIN','PVR',\n",
        "            'IBULHSGFIN','M&MFIN','JINDALSTEL','SRTRANSFIN','VOLTAS'])\n",
        "companies = [adder(i) for i in companies]"
      ]
    },
    {
      "cell_type": "code",
      "execution_count": 18,
      "metadata": {
        "id": "hBfL5hi1xBuT",
        "outputId": "c14423a7-af45-4b2b-f558-d5cd00d02667",
        "colab": {
          "base_uri": "https://localhost:8080/",
          "height": 894
        }
      },
      "outputs": [
        {
          "output_type": "stream",
          "name": "stdout",
          "text": [
            "[*********************100%***********************]  43 of 43 completed\n",
            "Stored 'rsi_overbought_companies' (list)\n",
            "Stored 'rsi_oversold_companies' (list)\n",
            "\n",
            " -- 12:34:50 ---\n",
            "\n",
            " ============= \n",
            " rsi_overbought_companies\n",
            "\n",
            "\n",
            "\n",
            " rsi_oversold_companies \n",
            "\n",
            "('ONGC.NS', 29.75565898400307)\n",
            "\n",
            " ===========\n",
            "\n",
            "[*********************100%***********************]  43 of 43 completed\n",
            "Stored 'rsi_overbought_companies' (list)\n",
            "Stored 'rsi_oversold_companies' (list)\n",
            "\n",
            " -- 12:34:53 ---\n",
            "\n",
            " ============= \n",
            " rsi_overbought_companies\n",
            "\n",
            "\n",
            "\n",
            " rsi_oversold_companies \n",
            "\n",
            "('ONGC.NS', 29.75565898400307)\n",
            "\n",
            " ===========\n",
            "\n",
            "no stored variable var\n",
            "1\n"
          ]
        },
        {
          "output_type": "error",
          "ename": "KeyboardInterrupt",
          "evalue": "ignored",
          "traceback": [
            "\u001b[0;31m---------------------------------------------------------------------------\u001b[0m",
            "\u001b[0;31mKeyboardInterrupt\u001b[0m                         Traceback (most recent call last)",
            "\u001b[0;32m<ipython-input-18-40ef5dd46950>\u001b[0m in \u001b[0;36m<module>\u001b[0;34m()\u001b[0m\n\u001b[0;32m----> 1\u001b[0;31m \u001b[0mstart\u001b[0m\u001b[0;34m(\u001b[0m\u001b[0mcompanies\u001b[0m\u001b[0;34m,\u001b[0m\u001b[0mdate\u001b[0m\u001b[0;34m,\u001b[0m\u001b[0mdata\u001b[0m\u001b[0;34m)\u001b[0m\u001b[0;34m\u001b[0m\u001b[0;34m\u001b[0m\u001b[0m\n\u001b[0m",
            "\u001b[0;32m<ipython-input-16-7af1d7782bb7>\u001b[0m in \u001b[0;36mstart\u001b[0;34m(companies, date, data)\u001b[0m\n\u001b[1;32m     72\u001b[0m             \u001b[0mget_ipython\u001b[0m\u001b[0;34m(\u001b[0m\u001b[0;34m)\u001b[0m\u001b[0;34m.\u001b[0m\u001b[0mmagic\u001b[0m\u001b[0;34m(\u001b[0m\u001b[0;34m'store -r var'\u001b[0m\u001b[0;34m)\u001b[0m\u001b[0;34m\u001b[0m\u001b[0;34m\u001b[0m\u001b[0m\n\u001b[1;32m     73\u001b[0m             \u001b[0mprint\u001b[0m\u001b[0;34m(\u001b[0m\u001b[0mvar\u001b[0m\u001b[0;34m)\u001b[0m\u001b[0;34m\u001b[0m\u001b[0;34m\u001b[0m\u001b[0m\n\u001b[0;32m---> 74\u001b[0;31m             \u001b[0msleep\u001b[0m\u001b[0;34m(\u001b[0m\u001b[0;34m(\u001b[0m\u001b[0;36m3\u001b[0m\u001b[0;34m)\u001b[0m\u001b[0;34m*\u001b[0m\u001b[0;36m60\u001b[0m\u001b[0;34m)\u001b[0m\u001b[0;34m\u001b[0m\u001b[0;34m\u001b[0m\u001b[0m\n\u001b[0m\u001b[1;32m     75\u001b[0m             \u001b[0mprint\u001b[0m\u001b[0;34m(\u001b[0m\u001b[0mvar\u001b[0m\u001b[0;34m)\u001b[0m\u001b[0;34m\u001b[0m\u001b[0;34m\u001b[0m\u001b[0m\n",
            "\u001b[0;31mKeyboardInterrupt\u001b[0m: "
          ]
        }
      ],
      "source": [
        "start(companies,date,data)"
      ]
    },
    {
      "cell_type": "code",
      "execution_count": null,
      "metadata": {
        "id": "0m5xU8_cxBuV"
      },
      "outputs": [],
      "source": [
        ""
      ]
    }
  ],
  "metadata": {
    "colab": {
      "name": "RSI screener.ipynb",
      "provenance": [],
      "collapsed_sections": []
    },
    "kernelspec": {
      "display_name": "Python 3",
      "language": "python",
      "name": "python3"
    },
    "language_info": {
      "codemirror_mode": {
        "name": "ipython",
        "version": 3
      },
      "file_extension": ".py",
      "mimetype": "text/x-python",
      "name": "python",
      "nbconvert_exporter": "python",
      "pygments_lexer": "ipython3",
      "version": "3.8.5"
    }
  },
  "nbformat": 4,
  "nbformat_minor": 0
}